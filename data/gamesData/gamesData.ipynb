{
 "cells": [
  {
   "cell_type": "code",
   "execution_count": null,
   "metadata": {
    "tags": []
   },
   "outputs": [],
   "source": [
    "!pip install pandas\n",
    "!pip install numpy\n",
    "!pip install matplotlib\n"
   ]
  },
  {
   "cell_type": "code",
   "execution_count": 2,
   "metadata": {},
   "outputs": [],
   "source": [
    "import pandas as pd \n",
    "import numpy as np \n",
    "import matplotlib.pyplot as plt"
   ]
  },
  {
   "cell_type": "code",
   "execution_count": 3,
   "metadata": {},
   "outputs": [],
   "source": [
    "%%capture\n",
    "game_data = pd.read_csv('Video_Games_Sales_as_at_22_Dec_2016.csv')\n",
    "game_data.dropna(inplace = True)\n",
    "game_data.reset_index(inplace = True)"
   ]
  },
  {
   "cell_type": "code",
   "execution_count": 4,
   "metadata": {},
   "outputs": [
    {
     "output_type": "execute_result",
     "data": {
      "text/plain": "index                int64\nName                object\nPlatform            object\nYear_of_Release    float64\nGenre               object\nPublisher           object\nNA_Sales           float64\nEU_Sales           float64\nJP_Sales           float64\nOther_Sales        float64\nGlobal_Sales       float64\nCritic_Score       float64\nCritic_Count       float64\nUser_Score          object\nUser_Count         float64\nDeveloper           object\nRating              object\ndtype: object"
     },
     "metadata": {},
     "execution_count": 4
    }
   ],
   "source": [
    "game_data.dtypes"
   ]
  },
  {
   "cell_type": "code",
   "execution_count": 5,
   "metadata": {},
   "outputs": [],
   "source": [
    "game_data['User_Score'] = pd.to_numeric(game_data['User_Score'], errors = 'coerce')"
   ]
  },
  {
   "cell_type": "code",
   "execution_count": 6,
   "metadata": {},
   "outputs": [
    {
     "output_type": "execute_result",
     "data": {
      "text/plain": "   index                   Name Platform  Year_of_Release     Genre Publisher  \\\n0      0             Wii Sports      Wii           2006.0    Sports  Nintendo   \n1      2         Mario Kart Wii      Wii           2008.0    Racing  Nintendo   \n2      3      Wii Sports Resort      Wii           2009.0    Sports  Nintendo   \n3      6  New Super Mario Bros.       DS           2006.0  Platform  Nintendo   \n4      7               Wii Play      Wii           2006.0      Misc  Nintendo   \n\n   NA_Sales  EU_Sales  JP_Sales  Other_Sales  Global_Sales  Critic_Score  \\\n0     41.36     28.96      3.77         8.45         82.53          76.0   \n1     15.68     12.76      3.79         3.29         35.52          82.0   \n2     15.61     10.93      3.28         2.95         32.77          80.0   \n3     11.28      9.14      6.50         2.88         29.80          89.0   \n4     13.96      9.18      2.93         2.84         28.92          58.0   \n\n   Critic_Count  User_Score  User_Count Developer Rating  \n0          51.0         8.0       322.0  Nintendo      E  \n1          73.0         8.3       709.0  Nintendo      E  \n2          73.0         8.0       192.0  Nintendo      E  \n3          65.0         8.5       431.0  Nintendo      E  \n4          41.0         6.6       129.0  Nintendo      E  ",
      "text/html": "<div>\n<style scoped>\n    .dataframe tbody tr th:only-of-type {\n        vertical-align: middle;\n    }\n\n    .dataframe tbody tr th {\n        vertical-align: top;\n    }\n\n    .dataframe thead th {\n        text-align: right;\n    }\n</style>\n<table border=\"1\" class=\"dataframe\">\n  <thead>\n    <tr style=\"text-align: right;\">\n      <th></th>\n      <th>index</th>\n      <th>Name</th>\n      <th>Platform</th>\n      <th>Year_of_Release</th>\n      <th>Genre</th>\n      <th>Publisher</th>\n      <th>NA_Sales</th>\n      <th>EU_Sales</th>\n      <th>JP_Sales</th>\n      <th>Other_Sales</th>\n      <th>Global_Sales</th>\n      <th>Critic_Score</th>\n      <th>Critic_Count</th>\n      <th>User_Score</th>\n      <th>User_Count</th>\n      <th>Developer</th>\n      <th>Rating</th>\n    </tr>\n  </thead>\n  <tbody>\n    <tr>\n      <th>0</th>\n      <td>0</td>\n      <td>Wii Sports</td>\n      <td>Wii</td>\n      <td>2006.0</td>\n      <td>Sports</td>\n      <td>Nintendo</td>\n      <td>41.36</td>\n      <td>28.96</td>\n      <td>3.77</td>\n      <td>8.45</td>\n      <td>82.53</td>\n      <td>76.0</td>\n      <td>51.0</td>\n      <td>8.0</td>\n      <td>322.0</td>\n      <td>Nintendo</td>\n      <td>E</td>\n    </tr>\n    <tr>\n      <th>1</th>\n      <td>2</td>\n      <td>Mario Kart Wii</td>\n      <td>Wii</td>\n      <td>2008.0</td>\n      <td>Racing</td>\n      <td>Nintendo</td>\n      <td>15.68</td>\n      <td>12.76</td>\n      <td>3.79</td>\n      <td>3.29</td>\n      <td>35.52</td>\n      <td>82.0</td>\n      <td>73.0</td>\n      <td>8.3</td>\n      <td>709.0</td>\n      <td>Nintendo</td>\n      <td>E</td>\n    </tr>\n    <tr>\n      <th>2</th>\n      <td>3</td>\n      <td>Wii Sports Resort</td>\n      <td>Wii</td>\n      <td>2009.0</td>\n      <td>Sports</td>\n      <td>Nintendo</td>\n      <td>15.61</td>\n      <td>10.93</td>\n      <td>3.28</td>\n      <td>2.95</td>\n      <td>32.77</td>\n      <td>80.0</td>\n      <td>73.0</td>\n      <td>8.0</td>\n      <td>192.0</td>\n      <td>Nintendo</td>\n      <td>E</td>\n    </tr>\n    <tr>\n      <th>3</th>\n      <td>6</td>\n      <td>New Super Mario Bros.</td>\n      <td>DS</td>\n      <td>2006.0</td>\n      <td>Platform</td>\n      <td>Nintendo</td>\n      <td>11.28</td>\n      <td>9.14</td>\n      <td>6.50</td>\n      <td>2.88</td>\n      <td>29.80</td>\n      <td>89.0</td>\n      <td>65.0</td>\n      <td>8.5</td>\n      <td>431.0</td>\n      <td>Nintendo</td>\n      <td>E</td>\n    </tr>\n    <tr>\n      <th>4</th>\n      <td>7</td>\n      <td>Wii Play</td>\n      <td>Wii</td>\n      <td>2006.0</td>\n      <td>Misc</td>\n      <td>Nintendo</td>\n      <td>13.96</td>\n      <td>9.18</td>\n      <td>2.93</td>\n      <td>2.84</td>\n      <td>28.92</td>\n      <td>58.0</td>\n      <td>41.0</td>\n      <td>6.6</td>\n      <td>129.0</td>\n      <td>Nintendo</td>\n      <td>E</td>\n    </tr>\n  </tbody>\n</table>\n</div>"
     },
     "metadata": {},
     "execution_count": 6
    }
   ],
   "source": [
    "game_data.head()"
   ]
  },
  {
   "cell_type": "code",
   "execution_count": 7,
   "metadata": {},
   "outputs": [
    {
     "output_type": "execute_result",
     "data": {
      "text/plain": "      index                                   Name Platform  Year_of_Release  \\\n2109   3417  Harvest Moon: Friends of Mineral Town      GBA           2003.0   \n4697   8976        Boktai: The Sun is in Your Hand      GBA           2003.0   \n6816  16631                          Karnaaj Rally      GBA           2003.0   \n6805  16550            Wade Hixton's Counter Punch      GBA           2004.0   \n1050   1645               Golden Sun: The Lost Age      GBA           2002.0   \n3380   5920                    MLB SlugFest Loaded      PS2           2004.0   \n476     712    Paper Mario: The Thousand-Year Door       GC           2004.0   \n1089   1712                                Shenmue       DC           1999.0   \n101     146                       Metal Gear Solid       PS           1998.0   \n6116  13289                    Rock 'N Roll Racing      GBA           2003.0   \n\n             Genre                     Publisher  NA_Sales  EU_Sales  \\\n2109    Simulation                       Ubisoft      0.34      0.13   \n4697  Role-Playing  Konami Digital Entertainment      0.10      0.04   \n6816        Racing                        Jaleco      0.01      0.00   \n6805        Sports     Destination Software, Inc      0.01      0.00   \n1050  Role-Playing                      Nintendo      0.61      0.27   \n3380        Sports                  Midway Games      0.14      0.11   \n476   Role-Playing                      Nintendo      1.48      0.25   \n1089     Adventure                          Sega      0.52      0.24   \n101         Action  Konami Digital Entertainment      3.18      1.83   \n6116        Racing                    Activision      0.03      0.01   \n\n      JP_Sales  Other_Sales  Global_Sales  Critic_Score  Critic_Count  \\\n2109      0.11         0.01          0.59          81.0          25.0   \n4697      0.00         0.00          0.15          83.0          31.0   \n6816      0.00         0.00          0.01          81.0           9.0   \n6805      0.00         0.00          0.01          78.0          13.0   \n1050      0.27         0.07          1.22          86.0          29.0   \n3380      0.00         0.04          0.30          77.0          30.0   \n476       0.46         0.06          2.25          87.0          55.0   \n1089      0.38         0.04          1.18          88.0           9.0   \n101       0.78         0.24          6.03          94.0          20.0   \n6116      0.00         0.00          0.05          80.0          12.0   \n\n      User_Score  User_Count                   Developer Rating  \n2109         9.6       116.0                        TOSE      E  \n4697         9.6        16.0                        KCEJ      E  \n6816         9.5         4.0  Infinite Dreams, Paragon 5      E  \n6805         9.5         4.0               Inferno Games      T  \n1050         9.5       150.0   Camelot Software Planning      E  \n3380         9.5         4.0               Point of View      T  \n476          9.4       306.0         Intelligent Systems      E  \n1089         9.4       201.0                    Sega AM2      T  \n101          9.4       918.0                        KCEJ      M  \n6116         9.4         5.0                  Mass Media      E  ",
      "text/html": "<div>\n<style scoped>\n    .dataframe tbody tr th:only-of-type {\n        vertical-align: middle;\n    }\n\n    .dataframe tbody tr th {\n        vertical-align: top;\n    }\n\n    .dataframe thead th {\n        text-align: right;\n    }\n</style>\n<table border=\"1\" class=\"dataframe\">\n  <thead>\n    <tr style=\"text-align: right;\">\n      <th></th>\n      <th>index</th>\n      <th>Name</th>\n      <th>Platform</th>\n      <th>Year_of_Release</th>\n      <th>Genre</th>\n      <th>Publisher</th>\n      <th>NA_Sales</th>\n      <th>EU_Sales</th>\n      <th>JP_Sales</th>\n      <th>Other_Sales</th>\n      <th>Global_Sales</th>\n      <th>Critic_Score</th>\n      <th>Critic_Count</th>\n      <th>User_Score</th>\n      <th>User_Count</th>\n      <th>Developer</th>\n      <th>Rating</th>\n    </tr>\n  </thead>\n  <tbody>\n    <tr>\n      <th>2109</th>\n      <td>3417</td>\n      <td>Harvest Moon: Friends of Mineral Town</td>\n      <td>GBA</td>\n      <td>2003.0</td>\n      <td>Simulation</td>\n      <td>Ubisoft</td>\n      <td>0.34</td>\n      <td>0.13</td>\n      <td>0.11</td>\n      <td>0.01</td>\n      <td>0.59</td>\n      <td>81.0</td>\n      <td>25.0</td>\n      <td>9.6</td>\n      <td>116.0</td>\n      <td>TOSE</td>\n      <td>E</td>\n    </tr>\n    <tr>\n      <th>4697</th>\n      <td>8976</td>\n      <td>Boktai: The Sun is in Your Hand</td>\n      <td>GBA</td>\n      <td>2003.0</td>\n      <td>Role-Playing</td>\n      <td>Konami Digital Entertainment</td>\n      <td>0.10</td>\n      <td>0.04</td>\n      <td>0.00</td>\n      <td>0.00</td>\n      <td>0.15</td>\n      <td>83.0</td>\n      <td>31.0</td>\n      <td>9.6</td>\n      <td>16.0</td>\n      <td>KCEJ</td>\n      <td>E</td>\n    </tr>\n    <tr>\n      <th>6816</th>\n      <td>16631</td>\n      <td>Karnaaj Rally</td>\n      <td>GBA</td>\n      <td>2003.0</td>\n      <td>Racing</td>\n      <td>Jaleco</td>\n      <td>0.01</td>\n      <td>0.00</td>\n      <td>0.00</td>\n      <td>0.00</td>\n      <td>0.01</td>\n      <td>81.0</td>\n      <td>9.0</td>\n      <td>9.5</td>\n      <td>4.0</td>\n      <td>Infinite Dreams, Paragon 5</td>\n      <td>E</td>\n    </tr>\n    <tr>\n      <th>6805</th>\n      <td>16550</td>\n      <td>Wade Hixton's Counter Punch</td>\n      <td>GBA</td>\n      <td>2004.0</td>\n      <td>Sports</td>\n      <td>Destination Software, Inc</td>\n      <td>0.01</td>\n      <td>0.00</td>\n      <td>0.00</td>\n      <td>0.00</td>\n      <td>0.01</td>\n      <td>78.0</td>\n      <td>13.0</td>\n      <td>9.5</td>\n      <td>4.0</td>\n      <td>Inferno Games</td>\n      <td>T</td>\n    </tr>\n    <tr>\n      <th>1050</th>\n      <td>1645</td>\n      <td>Golden Sun: The Lost Age</td>\n      <td>GBA</td>\n      <td>2002.0</td>\n      <td>Role-Playing</td>\n      <td>Nintendo</td>\n      <td>0.61</td>\n      <td>0.27</td>\n      <td>0.27</td>\n      <td>0.07</td>\n      <td>1.22</td>\n      <td>86.0</td>\n      <td>29.0</td>\n      <td>9.5</td>\n      <td>150.0</td>\n      <td>Camelot Software Planning</td>\n      <td>E</td>\n    </tr>\n    <tr>\n      <th>3380</th>\n      <td>5920</td>\n      <td>MLB SlugFest Loaded</td>\n      <td>PS2</td>\n      <td>2004.0</td>\n      <td>Sports</td>\n      <td>Midway Games</td>\n      <td>0.14</td>\n      <td>0.11</td>\n      <td>0.00</td>\n      <td>0.04</td>\n      <td>0.30</td>\n      <td>77.0</td>\n      <td>30.0</td>\n      <td>9.5</td>\n      <td>4.0</td>\n      <td>Point of View</td>\n      <td>T</td>\n    </tr>\n    <tr>\n      <th>476</th>\n      <td>712</td>\n      <td>Paper Mario: The Thousand-Year Door</td>\n      <td>GC</td>\n      <td>2004.0</td>\n      <td>Role-Playing</td>\n      <td>Nintendo</td>\n      <td>1.48</td>\n      <td>0.25</td>\n      <td>0.46</td>\n      <td>0.06</td>\n      <td>2.25</td>\n      <td>87.0</td>\n      <td>55.0</td>\n      <td>9.4</td>\n      <td>306.0</td>\n      <td>Intelligent Systems</td>\n      <td>E</td>\n    </tr>\n    <tr>\n      <th>1089</th>\n      <td>1712</td>\n      <td>Shenmue</td>\n      <td>DC</td>\n      <td>1999.0</td>\n      <td>Adventure</td>\n      <td>Sega</td>\n      <td>0.52</td>\n      <td>0.24</td>\n      <td>0.38</td>\n      <td>0.04</td>\n      <td>1.18</td>\n      <td>88.0</td>\n      <td>9.0</td>\n      <td>9.4</td>\n      <td>201.0</td>\n      <td>Sega AM2</td>\n      <td>T</td>\n    </tr>\n    <tr>\n      <th>101</th>\n      <td>146</td>\n      <td>Metal Gear Solid</td>\n      <td>PS</td>\n      <td>1998.0</td>\n      <td>Action</td>\n      <td>Konami Digital Entertainment</td>\n      <td>3.18</td>\n      <td>1.83</td>\n      <td>0.78</td>\n      <td>0.24</td>\n      <td>6.03</td>\n      <td>94.0</td>\n      <td>20.0</td>\n      <td>9.4</td>\n      <td>918.0</td>\n      <td>KCEJ</td>\n      <td>M</td>\n    </tr>\n    <tr>\n      <th>6116</th>\n      <td>13289</td>\n      <td>Rock 'N Roll Racing</td>\n      <td>GBA</td>\n      <td>2003.0</td>\n      <td>Racing</td>\n      <td>Activision</td>\n      <td>0.03</td>\n      <td>0.01</td>\n      <td>0.00</td>\n      <td>0.00</td>\n      <td>0.05</td>\n      <td>80.0</td>\n      <td>12.0</td>\n      <td>9.4</td>\n      <td>5.0</td>\n      <td>Mass Media</td>\n      <td>E</td>\n    </tr>\n  </tbody>\n</table>\n</div>"
     },
     "metadata": {},
     "execution_count": 7
    }
   ],
   "source": [
    "game_data.sort_values(by='User_Score', ascending=False).iloc[:10]"
   ]
  },
  {
   "cell_type": "code",
   "execution_count": 8,
   "metadata": {},
   "outputs": [
    {
     "output_type": "execute_result",
     "data": {
      "text/plain": "      index                      Name Platform  Year_of_Release     Genre  \\\n155     227  Tony Hawk's Pro Skater 2       PS           2000.0    Sports   \n3112   5350               SoulCalibur       DC           1999.0  Fighting   \n32       51       Grand Theft Auto IV     X360           2008.0    Action   \n37       57       Grand Theft Auto IV      PS3           2008.0    Action   \n173     249  Tony Hawk's Pro Skater 3      PS2           2001.0    Sports   \n1188   1877                   NFL 2K1       DC           2000.0    Sports   \n23       38      Grand Theft Auto III      PS2           2001.0    Action   \n353     517             Metroid Prime       GC           2002.0   Shooter   \n31       49        Super Mario Galaxy      Wii           2007.0  Platform   \n13       23        Grand Theft Auto V     X360           2013.0    Action   \n\n                 Publisher  NA_Sales  EU_Sales  JP_Sales  Other_Sales  \\\n155             Activision      3.05      1.41      0.02         0.20   \n3112    Namco Bandai Games      0.00      0.00      0.34         0.00   \n32    Take-Two Interactive      6.76      3.07      0.14         1.03   \n37    Take-Two Interactive      4.76      3.69      0.44         1.61   \n173             Activision      2.66      1.29      0.01         0.46   \n1188                  Sega      1.02      0.05      0.00         0.02   \n23    Take-Two Interactive      6.99      4.51      0.30         1.30   \n353               Nintendo      1.96      0.67      0.10         0.09   \n31                Nintendo      6.06      3.35      1.20         0.74   \n13    Take-Two Interactive      9.66      5.14      0.06         1.41   \n\n      Global_Sales  Critic_Score  Critic_Count  User_Score  User_Count  \\\n155           4.68          98.0          19.0         7.7       299.0   \n3112          0.34          98.0          24.0         8.8       200.0   \n32           11.01          98.0          86.0         7.9      2951.0   \n37           10.50          98.0          64.0         7.5      2833.0   \n173           4.41          97.0          34.0         7.5       298.0   \n1188          1.09          97.0          22.0         6.0        47.0   \n23           13.10          97.0          56.0         8.5       664.0   \n353           2.82          97.0          70.0         9.3       747.0   \n31           11.35          97.0          73.0         8.9      2147.0   \n13           16.27          97.0          58.0         8.1      3711.0   \n\n                    Developer Rating  \n155   Neversoft Entertainment      T  \n3112                    Namco      T  \n32             Rockstar North      M  \n37             Rockstar North      M  \n173   Neversoft Entertainment      T  \n1188          Visual Concepts      E  \n23                 DMA Design      M  \n353             Retro Studios      T  \n31                   Nintendo      E  \n13             Rockstar North      M  ",
      "text/html": "<div>\n<style scoped>\n    .dataframe tbody tr th:only-of-type {\n        vertical-align: middle;\n    }\n\n    .dataframe tbody tr th {\n        vertical-align: top;\n    }\n\n    .dataframe thead th {\n        text-align: right;\n    }\n</style>\n<table border=\"1\" class=\"dataframe\">\n  <thead>\n    <tr style=\"text-align: right;\">\n      <th></th>\n      <th>index</th>\n      <th>Name</th>\n      <th>Platform</th>\n      <th>Year_of_Release</th>\n      <th>Genre</th>\n      <th>Publisher</th>\n      <th>NA_Sales</th>\n      <th>EU_Sales</th>\n      <th>JP_Sales</th>\n      <th>Other_Sales</th>\n      <th>Global_Sales</th>\n      <th>Critic_Score</th>\n      <th>Critic_Count</th>\n      <th>User_Score</th>\n      <th>User_Count</th>\n      <th>Developer</th>\n      <th>Rating</th>\n    </tr>\n  </thead>\n  <tbody>\n    <tr>\n      <th>155</th>\n      <td>227</td>\n      <td>Tony Hawk's Pro Skater 2</td>\n      <td>PS</td>\n      <td>2000.0</td>\n      <td>Sports</td>\n      <td>Activision</td>\n      <td>3.05</td>\n      <td>1.41</td>\n      <td>0.02</td>\n      <td>0.20</td>\n      <td>4.68</td>\n      <td>98.0</td>\n      <td>19.0</td>\n      <td>7.7</td>\n      <td>299.0</td>\n      <td>Neversoft Entertainment</td>\n      <td>T</td>\n    </tr>\n    <tr>\n      <th>3112</th>\n      <td>5350</td>\n      <td>SoulCalibur</td>\n      <td>DC</td>\n      <td>1999.0</td>\n      <td>Fighting</td>\n      <td>Namco Bandai Games</td>\n      <td>0.00</td>\n      <td>0.00</td>\n      <td>0.34</td>\n      <td>0.00</td>\n      <td>0.34</td>\n      <td>98.0</td>\n      <td>24.0</td>\n      <td>8.8</td>\n      <td>200.0</td>\n      <td>Namco</td>\n      <td>T</td>\n    </tr>\n    <tr>\n      <th>32</th>\n      <td>51</td>\n      <td>Grand Theft Auto IV</td>\n      <td>X360</td>\n      <td>2008.0</td>\n      <td>Action</td>\n      <td>Take-Two Interactive</td>\n      <td>6.76</td>\n      <td>3.07</td>\n      <td>0.14</td>\n      <td>1.03</td>\n      <td>11.01</td>\n      <td>98.0</td>\n      <td>86.0</td>\n      <td>7.9</td>\n      <td>2951.0</td>\n      <td>Rockstar North</td>\n      <td>M</td>\n    </tr>\n    <tr>\n      <th>37</th>\n      <td>57</td>\n      <td>Grand Theft Auto IV</td>\n      <td>PS3</td>\n      <td>2008.0</td>\n      <td>Action</td>\n      <td>Take-Two Interactive</td>\n      <td>4.76</td>\n      <td>3.69</td>\n      <td>0.44</td>\n      <td>1.61</td>\n      <td>10.50</td>\n      <td>98.0</td>\n      <td>64.0</td>\n      <td>7.5</td>\n      <td>2833.0</td>\n      <td>Rockstar North</td>\n      <td>M</td>\n    </tr>\n    <tr>\n      <th>173</th>\n      <td>249</td>\n      <td>Tony Hawk's Pro Skater 3</td>\n      <td>PS2</td>\n      <td>2001.0</td>\n      <td>Sports</td>\n      <td>Activision</td>\n      <td>2.66</td>\n      <td>1.29</td>\n      <td>0.01</td>\n      <td>0.46</td>\n      <td>4.41</td>\n      <td>97.0</td>\n      <td>34.0</td>\n      <td>7.5</td>\n      <td>298.0</td>\n      <td>Neversoft Entertainment</td>\n      <td>T</td>\n    </tr>\n    <tr>\n      <th>1188</th>\n      <td>1877</td>\n      <td>NFL 2K1</td>\n      <td>DC</td>\n      <td>2000.0</td>\n      <td>Sports</td>\n      <td>Sega</td>\n      <td>1.02</td>\n      <td>0.05</td>\n      <td>0.00</td>\n      <td>0.02</td>\n      <td>1.09</td>\n      <td>97.0</td>\n      <td>22.0</td>\n      <td>6.0</td>\n      <td>47.0</td>\n      <td>Visual Concepts</td>\n      <td>E</td>\n    </tr>\n    <tr>\n      <th>23</th>\n      <td>38</td>\n      <td>Grand Theft Auto III</td>\n      <td>PS2</td>\n      <td>2001.0</td>\n      <td>Action</td>\n      <td>Take-Two Interactive</td>\n      <td>6.99</td>\n      <td>4.51</td>\n      <td>0.30</td>\n      <td>1.30</td>\n      <td>13.10</td>\n      <td>97.0</td>\n      <td>56.0</td>\n      <td>8.5</td>\n      <td>664.0</td>\n      <td>DMA Design</td>\n      <td>M</td>\n    </tr>\n    <tr>\n      <th>353</th>\n      <td>517</td>\n      <td>Metroid Prime</td>\n      <td>GC</td>\n      <td>2002.0</td>\n      <td>Shooter</td>\n      <td>Nintendo</td>\n      <td>1.96</td>\n      <td>0.67</td>\n      <td>0.10</td>\n      <td>0.09</td>\n      <td>2.82</td>\n      <td>97.0</td>\n      <td>70.0</td>\n      <td>9.3</td>\n      <td>747.0</td>\n      <td>Retro Studios</td>\n      <td>T</td>\n    </tr>\n    <tr>\n      <th>31</th>\n      <td>49</td>\n      <td>Super Mario Galaxy</td>\n      <td>Wii</td>\n      <td>2007.0</td>\n      <td>Platform</td>\n      <td>Nintendo</td>\n      <td>6.06</td>\n      <td>3.35</td>\n      <td>1.20</td>\n      <td>0.74</td>\n      <td>11.35</td>\n      <td>97.0</td>\n      <td>73.0</td>\n      <td>8.9</td>\n      <td>2147.0</td>\n      <td>Nintendo</td>\n      <td>E</td>\n    </tr>\n    <tr>\n      <th>13</th>\n      <td>23</td>\n      <td>Grand Theft Auto V</td>\n      <td>X360</td>\n      <td>2013.0</td>\n      <td>Action</td>\n      <td>Take-Two Interactive</td>\n      <td>9.66</td>\n      <td>5.14</td>\n      <td>0.06</td>\n      <td>1.41</td>\n      <td>16.27</td>\n      <td>97.0</td>\n      <td>58.0</td>\n      <td>8.1</td>\n      <td>3711.0</td>\n      <td>Rockstar North</td>\n      <td>M</td>\n    </tr>\n  </tbody>\n</table>\n</div>"
     },
     "metadata": {},
     "execution_count": 8
    }
   ],
   "source": [
    "game_data.sort_values(by='Critic_Score', ascending=False).iloc[:10]"
   ]
  },
  {
   "cell_type": "code",
   "execution_count": 9,
   "metadata": {},
   "outputs": [],
   "source": [
    "cleaned_data = game_data.groupby(['Name'], as_index=False).agg({'Global_Sales' : 'sum','NA_Sales': 'sum',  'JP_Sales': 'sum', 'Other_Sales': 'sum', 'Critic_Score': 'mean', 'Critic_Count': 'sum', 'User_Score': 'mean', 'User_Count': 'sum',})"
   ]
  },
  {
   "cell_type": "code",
   "execution_count": 19,
   "metadata": {},
   "outputs": [],
   "source": [
    "dropped_data = game_data.drop(['Global_Sales', 'NA_Sales', 'JP_Sales', 'Critic_Score', 'EU_Sales','Other_Sales', 'Critic_Count', 'User_Score', 'User_Count', 'Platform'], axis=1)\n",
    "dropped_data.drop_duplicates(inplace = True)"
   ]
  },
  {
   "cell_type": "code",
   "execution_count": 20,
   "metadata": {},
   "outputs": [],
   "source": [
    "merged_data = cleaned_data.merge(dropped_data, how = 'inner', on = \"Name\")"
   ]
  },
  {
   "cell_type": "code",
   "execution_count": 21,
   "metadata": {},
   "outputs": [],
   "source": [
    "merged_data.sort_values(by = \"Global_Sales\", ascending = False, inplace = True)"
   ]
  },
  {
   "cell_type": "code",
   "execution_count": 23,
   "metadata": {
    "tags": []
   },
   "outputs": [],
   "source": [
    "merged_data.to_csv('DataForGames.csv')"
   ]
  },
  {
   "cell_type": "code",
   "execution_count": 22,
   "metadata": {},
   "outputs": [
    {
     "output_type": "execute_result",
     "data": {
      "text/plain": "                    Name  Global_Sales  NA_Sales  JP_Sales  Other_Sales  \\\n6597          Wii Sports         82.53     41.36      3.77         8.45   \n2221  Grand Theft Auto V         56.57     23.84      1.42         7.90   \n2225  Grand Theft Auto V         56.57     23.84      1.42         7.90   \n2224  Grand Theft Auto V         56.57     23.84      1.42         7.90   \n2223  Grand Theft Auto V         56.57     23.84      1.42         7.90   \n\n      Critic_Score  Critic_Count  User_Score  User_Count  index  \\\n6597          76.0          51.0        8.00       322.0      0   \n2221          96.8         245.0        8.08     15124.0     16   \n2225          96.8         245.0        8.08     15124.0   1730   \n2224          96.8         245.0        8.08     15124.0    165   \n2223          96.8         245.0        8.08     15124.0     42   \n\n      Year_of_Release   Genre             Publisher       Developer Rating  \n6597           2006.0  Sports              Nintendo        Nintendo      E  \n2221           2013.0  Action  Take-Two Interactive  Rockstar North      M  \n2225           2015.0  Action  Take-Two Interactive  Rockstar North      M  \n2224           2014.0  Action  Take-Two Interactive  Rockstar North      M  \n2223           2014.0  Action  Take-Two Interactive  Rockstar North      M  ",
      "text/html": "<div>\n<style scoped>\n    .dataframe tbody tr th:only-of-type {\n        vertical-align: middle;\n    }\n\n    .dataframe tbody tr th {\n        vertical-align: top;\n    }\n\n    .dataframe thead th {\n        text-align: right;\n    }\n</style>\n<table border=\"1\" class=\"dataframe\">\n  <thead>\n    <tr style=\"text-align: right;\">\n      <th></th>\n      <th>Name</th>\n      <th>Global_Sales</th>\n      <th>NA_Sales</th>\n      <th>JP_Sales</th>\n      <th>Other_Sales</th>\n      <th>Critic_Score</th>\n      <th>Critic_Count</th>\n      <th>User_Score</th>\n      <th>User_Count</th>\n      <th>index</th>\n      <th>Year_of_Release</th>\n      <th>Genre</th>\n      <th>Publisher</th>\n      <th>Developer</th>\n      <th>Rating</th>\n    </tr>\n  </thead>\n  <tbody>\n    <tr>\n      <th>6597</th>\n      <td>Wii Sports</td>\n      <td>82.53</td>\n      <td>41.36</td>\n      <td>3.77</td>\n      <td>8.45</td>\n      <td>76.0</td>\n      <td>51.0</td>\n      <td>8.00</td>\n      <td>322.0</td>\n      <td>0</td>\n      <td>2006.0</td>\n      <td>Sports</td>\n      <td>Nintendo</td>\n      <td>Nintendo</td>\n      <td>E</td>\n    </tr>\n    <tr>\n      <th>2221</th>\n      <td>Grand Theft Auto V</td>\n      <td>56.57</td>\n      <td>23.84</td>\n      <td>1.42</td>\n      <td>7.90</td>\n      <td>96.8</td>\n      <td>245.0</td>\n      <td>8.08</td>\n      <td>15124.0</td>\n      <td>16</td>\n      <td>2013.0</td>\n      <td>Action</td>\n      <td>Take-Two Interactive</td>\n      <td>Rockstar North</td>\n      <td>M</td>\n    </tr>\n    <tr>\n      <th>2225</th>\n      <td>Grand Theft Auto V</td>\n      <td>56.57</td>\n      <td>23.84</td>\n      <td>1.42</td>\n      <td>7.90</td>\n      <td>96.8</td>\n      <td>245.0</td>\n      <td>8.08</td>\n      <td>15124.0</td>\n      <td>1730</td>\n      <td>2015.0</td>\n      <td>Action</td>\n      <td>Take-Two Interactive</td>\n      <td>Rockstar North</td>\n      <td>M</td>\n    </tr>\n    <tr>\n      <th>2224</th>\n      <td>Grand Theft Auto V</td>\n      <td>56.57</td>\n      <td>23.84</td>\n      <td>1.42</td>\n      <td>7.90</td>\n      <td>96.8</td>\n      <td>245.0</td>\n      <td>8.08</td>\n      <td>15124.0</td>\n      <td>165</td>\n      <td>2014.0</td>\n      <td>Action</td>\n      <td>Take-Two Interactive</td>\n      <td>Rockstar North</td>\n      <td>M</td>\n    </tr>\n    <tr>\n      <th>2223</th>\n      <td>Grand Theft Auto V</td>\n      <td>56.57</td>\n      <td>23.84</td>\n      <td>1.42</td>\n      <td>7.90</td>\n      <td>96.8</td>\n      <td>245.0</td>\n      <td>8.08</td>\n      <td>15124.0</td>\n      <td>42</td>\n      <td>2014.0</td>\n      <td>Action</td>\n      <td>Take-Two Interactive</td>\n      <td>Rockstar North</td>\n      <td>M</td>\n    </tr>\n  </tbody>\n</table>\n</div>"
     },
     "metadata": {},
     "execution_count": 22
    }
   ],
   "source": []
  },
  {
   "cell_type": "code",
   "execution_count": null,
   "metadata": {},
   "outputs": [],
   "source": []
  }
 ],
 "metadata": {
  "language_info": {
   "codemirror_mode": {
    "name": "ipython",
    "version": 3
   },
   "file_extension": ".py",
   "mimetype": "text/x-python",
   "name": "python",
   "nbconvert_exporter": "python",
   "pygments_lexer": "ipython3",
   "version": 3
  },
  "orig_nbformat": 2,
  "kernelspec": {
   "name": "python_defaultSpec_1594939342141",
   "display_name": "Python 3.7.8 64-bit"
  }
 },
 "nbformat": 4,
 "nbformat_minor": 2
}