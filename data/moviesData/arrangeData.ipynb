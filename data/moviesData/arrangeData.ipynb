{
 "cells": [
  {
   "cell_type": "code",
   "execution_count": 18,
   "metadata": {},
   "outputs": [],
   "source": [
    "%%capture\n",
    "\n",
    "!pip3 install pandas\n",
    "!pip3 install numpy\n",
    "\n",
    "import pandas as pd \n",
    "import numpy as np"
   ]
  },
  {
   "cell_type": "code",
   "execution_count": 19,
   "metadata": {},
   "outputs": [],
   "source": [
    "#Contains movieid tag id and relevance\n",
    "genome_scores = pd.read_csv('genome-scores.csv')\n",
    "\n",
    "#contains tagId and tag looks like genres\n",
    "genome_tags = pd.read_csv('genome-tags.csv')\n",
    "\n",
    "#contains movie id and corresponding imdbId and tmdbId\n",
    "links = pd.read_csv('links.csv')\n",
    "\n",
    "# contains movieId title and genres that the movie falls under\n",
    "movies = pd.read_csv('movies.csv')\n",
    "\n",
    "# contains ratings for movieId by users with a timestampe(unsure what this is)\n",
    "ratings = pd.read_csv('ratings.csv')\n",
    "\n",
    "#contains UserId associated with a movieId with the tag the user rated with and a time stamp\n",
    "tags = pd.read_csv('tags.csv')"
   ]
  },
  {
   "cell_type": "code",
   "execution_count": 20,
   "metadata": {},
   "outputs": [],
   "source": [
    "#drops userId and timestamp not needed\n",
    "ratings.drop(['userId','timestamp'], axis = 1, inplace = True)\n",
    "#adds a column for mean and count for the rating \n",
    "ratings = ratings.groupby('movieId').agg(['mean','count'])\n",
    "#renames columns\n",
    "ratings.columns = ['Average_Rating', 'Total_Rating']\n",
    "\n",
    "# merges ratings with links csv by movieId\n",
    "movies = movies.merge(ratings, how = 'inner', on = 'movieId')\n",
    "movies = movies.merge(links,  how ='inner', on = 'movieId')"
   ]
  },
  {
   "cell_type": "code",
   "execution_count": 21,
   "metadata": {},
   "outputs": [],
   "source": [
    "#creates a dictionary for title and year \n",
    "moviesByYear = []\n",
    "for x in range(len(movies)):\n",
    "    moviesByYear.append([\n",
    "        int(movies.movieId[x]), \n",
    "        str(movies.title[x][0:movies.title[x].rfind('(')]),\n",
    "        str(movies.title[x][movies.title[x].rfind('(')+1:movies.title[x].rfind(')')])\n",
    "    ])"
   ]
  },
  {
   "cell_type": "code",
   "execution_count": 22,
   "metadata": {},
   "outputs": [],
   "source": [
    "#replaces current title with new title and year\n",
    "moviesByYearDf = pd.DataFrame(moviesByYear, columns=['movieId',\"title\",\"year\"])\n",
    "movies.drop(columns='title', inplace = True)\n",
    "movies = moviesByYearDf.merge(movies, how = 'inner', on = 'movieId')"
   ]
  },
  {
   "cell_type": "code",
   "execution_count": 23,
   "metadata": {},
   "outputs": [],
   "source": [
    "movies.to_csv('DataforMovies.csv')"
   ]
  },
  {
   "cell_type": "code",
   "execution_count": null,
   "metadata": {},
   "outputs": [],
   "source": [
    "#Apparenty nothing needs to be done with this because genres are already added by relevance\n",
    "\n",
    "#keeping this in case filteration is needed\n",
    "genome_scores['Genre'] = genome_scores['tagId'].map(genome_tags.set_index('tagId')['tag'])\n",
    "genome_scores = genome_scores[genome_scores['relevance'] > .75]\n",
    "genome_scores.reset_index(drop=True, inplace=True)"
   ]
  }
 ],
 "metadata": {
  "celltoolbar": "Tags",
  "kernelspec": {
   "display_name": "Python 3",
   "language": "python",
   "name": "python3"
  },
  "language_info": {
   "codemirror_mode": {
    "name": "ipython",
    "version": 3
   },
   "file_extension": ".py",
   "mimetype": "text/x-python",
   "name": "python",
   "nbconvert_exporter": "python",
   "pygments_lexer": "ipython3",
   "version": "3.7.8"
  }
 },
 "nbformat": 4,
 "nbformat_minor": 4
}
