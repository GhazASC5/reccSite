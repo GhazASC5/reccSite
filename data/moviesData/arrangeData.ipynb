{
 "cells": [
  {
   "cell_type": "code",
   "execution_count": 1,
   "metadata": {},
   "outputs": [],
   "source": [
    "%%capture\n",
    "!pip3 install pandas\n",
    "!pip3 install numpy\n",
    "!pip3 install matplotlib"
   ]
  },
  {
   "cell_type": "code",
   "execution_count": 2,
   "metadata": {},
   "outputs": [],
   "source": [
    "import pandas as pd\n",
    "import numpy as np\n",
    "import matplotlib.pyplot as plt"
   ]
  },
  {
   "cell_type": "code",
   "execution_count": 23,
   "metadata": {},
   "outputs": [],
   "source": [
    "#contains movie id and corresponding imdbId and tmdbId\n",
    "links = pd.read_csv('links.csv')\n",
    "\n",
    "# contains movieId title and genres that the movie falls under\n",
    "movies = pd.read_csv('movies.csv')\n",
    "\n",
    "# contains ratings for movieId by users with a timestampe\n",
    "ratings = pd.read_csv('ratings.csv')\n",
    "\n",
    "#contains UserId associated with a movieId with the tag the user rated with and a time stamp\n",
    "tags = pd.read_csv('tags.csv')"
   ]
  },
  {
   "cell_type": "code",
   "execution_count": 24,
   "metadata": {},
   "outputs": [],
   "source": [
    "#drops userId and timestamp not needed\n",
    "ratings.drop(['userId','timestamp'], axis = 1, inplace = True)\n",
    "#adds a column for mean and count for the rating \n",
    "ratings = ratings.groupby('movieId').agg(['mean','count'])\n",
    "#renames columns\n",
    "ratings.columns = ['Average_Rating', 'Total_Rating']\n",
    "\n",
    "# merges ratings with links csv by movieId\n",
    "movies = movies.merge(ratings, how = 'inner', on = 'movieId')\n",
    "movies = movies.merge(links,  how ='inner', on = 'movieId')"
   ]
  },
  {
   "cell_type": "code",
   "execution_count": 25,
   "metadata": {},
   "outputs": [],
   "source": [
    "#creates a dictionary for title and year \n",
    "moviesByYear = []\n",
    "for x in range(len(movies)):\n",
    "    moviesByYear.append([\n",
    "        int(movies.movieId[x]), \n",
    "        str(movies.title[x][0:movies.title[x].rfind('(')]).rstrip(),\n",
    "        str(movies.title[x][movies.title[x].rfind('(')+1:movies.title[x].rfind(')')]).rstrip()\n",
    "    ])"
   ]
  },
  {
   "cell_type": "code",
   "execution_count": 26,
   "metadata": {},
   "outputs": [],
   "source": [
    "#replaces current title with new title and year\n",
    "moviesByYearDf = pd.DataFrame(moviesByYear, columns=['movieId',\"title\",\"year\"])\n",
    "movies.drop(columns='title', inplace = True)\n",
    "movies = moviesByYearDf.merge(movies, how = 'inner', on = 'movieId')\n",
    "movies = movies.round({'Average_Rating': 4})"
   ]
  },
  {
   "cell_type": "code",
   "execution_count": 27,
   "metadata": {},
   "outputs": [],
   "source": [
    "pd.options.mode.chained_assignment = None\n",
    "for x in range(len(movies)):\n",
    "    if movies.genres[x].find('|') != -1:\n",
    "        movies.genres[x] = movies.genres[x][:movies.genres[x].find('|')]"
   ]
  },
  {
   "cell_type": "code",
   "execution_count": 28,
   "metadata": {},
   "outputs": [],
   "source": [
    "movies.to_csv('DataforMovies.csv')"
   ]
  },
  {
   "cell_type": "markdown",
   "metadata": {},
   "source": [
    "Unsure how to implement the other 2 files as of now, use pandas stack maybe ?"
   ]
  },
  {
   "cell_type": "code",
   "execution_count": null,
   "metadata": {},
   "outputs": [],
   "source": [
    "#NOTE STILL FIGURING OUT HOW TO USE THIS PART\n",
    "#Maybe get top 3 relevant genres to movie and merge those to movies\n",
    "\n",
    "#Contains movieid tag id and relevance\n",
    "genome_scores = pd.read_csv('genome-scores.csv')\n",
    "\n",
    "#contains tagId and tag looks like genres\n",
    "genome_tags = pd.read_csv('genome-tags.csv')"
   ]
  },
  {
   "cell_type": "code",
   "execution_count": null,
   "metadata": {},
   "outputs": [],
   "source": [
    "#Adds a column for genre which is based of genome_tags.tag \n",
    "genome_scores['genre'] = genome_scores['tagId'].map(genome_tags.set_index('tagId')['tag'])\n",
    "#Sorts by ascending\n",
    "genome_scores.sort_values(by=\"relevance\", ascending = False, inplace = True)\n",
    "genome_scores.drop_duplicates(subset = 'movieId', keep = 'first', inplace = True)\n",
    "genome_scores.reset_index(inplace = True)\n",
    "genome_scores.drop(columns=['index'], inplace =True)"
   ]
  },
  {
   "cell_type": "code",
   "execution_count": null,
   "metadata": {},
   "outputs": [],
   "source": [
    "\n",
    "print(genome_scores.head())"
   ]
  },
  {
   "cell_type": "code",
   "execution_count": null,
   "metadata": {},
   "outputs": [],
   "source": [
    "movies['genres'].str.contains('|', regex = False)"
   ]
  }
 ],
 "metadata": {
  "celltoolbar": "Tags",
  "kernelspec": {
   "display_name": "Python 3",
   "language": "python",
   "name": "python3"
  },
  "language_info": {
   "codemirror_mode": {
    "name": "ipython",
    "version": 3
   },
   "file_extension": ".py",
   "mimetype": "text/x-python",
   "name": "python",
   "nbconvert_exporter": "python",
   "pygments_lexer": "ipython3",
   "version": "3.7.8"
  }
 },
 "nbformat": 4,
 "nbformat_minor": 4
}
